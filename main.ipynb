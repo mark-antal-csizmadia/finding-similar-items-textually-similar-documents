{
 "cells": [
  {
   "cell_type": "markdown",
   "metadata": {},
   "source": [
    "# Finding Similar Items: Textually Similar Documents"
   ]
  },
  {
   "cell_type": "markdown",
   "metadata": {},
   "source": [
    "## Imports"
   ]
  },
  {
   "cell_type": "code",
   "execution_count": 1,
   "metadata": {},
   "outputs": [],
   "source": [
    "import findspark\n",
    "findspark.init()\n",
    "\n",
    "from pyspark import *\n",
    "from pyspark.sql.functions import desc, col, rand\n",
    "from pyspark.sql import *\n",
    "from graphframes import *\n",
    "from pyspark.sql.types import StructType, StructField, StringType, IntegerType, FloatType\n",
    "\n",
    "import os\n",
    "from IPython.display import display, HTML\n",
    "import pandas as pd\n",
    "import numpy as np\n",
    "import sys\n",
    "from sympy.ntheory.generate import nextprime\n",
    "import time\n",
    "\n",
    "from utils import DataReader, make_heatmap\n",
    "from classes import Shingling, Vectorizer, CompareSets, MinHashing, CompareSignatures, LSH, \\\n",
    "    FindTextuallySimilarDocuments"
   ]
  },
  {
   "cell_type": "code",
   "execution_count": 2,
   "metadata": {},
   "outputs": [],
   "source": [
    "%load_ext autoreload\n",
    "%autoreload 2"
   ]
  },
  {
   "cell_type": "markdown",
   "metadata": {},
   "source": [
    "Set the environment variable to get consistent results with the built-in hash function."
   ]
  },
  {
   "cell_type": "code",
   "execution_count": 3,
   "metadata": {},
   "outputs": [
    {
     "name": "stdout",
     "output_type": "stream",
     "text": [
      "env: PYTHONHASHSEED=0\n"
     ]
    }
   ],
   "source": [
    "%env PYTHONHASHSEED 0"
   ]
  },
  {
   "cell_type": "code",
   "execution_count": 4,
   "metadata": {},
   "outputs": [],
   "source": [
    "if os.environ.get(\"PYTHONHASHSEED\") != \"0\":\n",
    "    raise Exception(\"You must set PYTHONHASHSEED=0 when starting the Jupyter server to get reproducible results.\")"
   ]
  },
  {
   "cell_type": "markdown",
   "metadata": {},
   "source": [
    "Setup PySpark for Jupyter Noteobook."
   ]
  },
  {
   "cell_type": "code",
   "execution_count": 5,
   "metadata": {},
   "outputs": [],
   "source": [
    "# https://graphframes.github.io/graphframes/docs/_site/quick-start.html\n",
    "# https://stackoverflow.com/questions/65011599/how-to-start-graphframes-on-spark-on-pyspark-on-juypter-on-docker\n",
    "os.environ['PYSPARK_SUBMIT_ARGS'] = '--packages graphframes:graphframes:0.8.1-spark3.0-s_2.12 pyspark-shell'\n",
    "os.environ['PYSPARK_PYTHON'] = sys.executable"
   ]
  },
  {
   "cell_type": "markdown",
   "metadata": {},
   "source": [
    "## Code"
   ]
  },
  {
   "cell_type": "markdown",
   "metadata": {},
   "source": [
    "Start Spark session and record time since epoch for plotting etc."
   ]
  },
  {
   "cell_type": "code",
   "execution_count": 6,
   "metadata": {},
   "outputs": [
    {
     "name": "stderr",
     "output_type": "stream",
     "text": [
      "21/11/12 20:25:12 WARN Utils: Your hostname, mark-machine resolves to a loopback address: 127.0.1.1; using 130.237.2.19 instead (on interface wlp8s0)\n",
      "21/11/12 20:25:12 WARN Utils: Set SPARK_LOCAL_IP if you need to bind to another address\n"
     ]
    },
    {
     "name": "stdout",
     "output_type": "stream",
     "text": [
      ":: loading settings :: url = jar:file:/opt/spark/jars/ivy-2.4.0.jar!/org/apache/ivy/core/settings/ivysettings.xml\n"
     ]
    },
    {
     "name": "stderr",
     "output_type": "stream",
     "text": [
      "Ivy Default Cache set to: /home/mark/.ivy2/cache\n",
      "The jars for the packages stored in: /home/mark/.ivy2/jars\n",
      "graphframes#graphframes added as a dependency\n",
      ":: resolving dependencies :: org.apache.spark#spark-submit-parent-61e3ce11-09d6-423b-962e-f86e404e2a4d;1.0\n",
      "\tconfs: [default]\n",
      "\tfound graphframes#graphframes;0.8.1-spark3.0-s_2.12 in spark-packages\n",
      "\tfound org.slf4j#slf4j-api;1.7.16 in central\n",
      ":: resolution report :: resolve 156ms :: artifacts dl 8ms\n",
      "\t:: modules in use:\n",
      "\tgraphframes#graphframes;0.8.1-spark3.0-s_2.12 from spark-packages in [default]\n",
      "\torg.slf4j#slf4j-api;1.7.16 from central in [default]\n",
      "\t---------------------------------------------------------------------\n",
      "\t|                  |            modules            ||   artifacts   |\n",
      "\t|       conf       | number| search|dwnlded|evicted|| number|dwnlded|\n",
      "\t---------------------------------------------------------------------\n",
      "\t|      default     |   2   |   0   |   0   |   0   ||   2   |   0   |\n",
      "\t---------------------------------------------------------------------\n",
      ":: retrieving :: org.apache.spark#spark-submit-parent-61e3ce11-09d6-423b-962e-f86e404e2a4d\n",
      "\tconfs: [default]\n",
      "\t0 artifacts copied, 2 already retrieved (0kB/6ms)\n",
      "21/11/12 20:25:13 WARN NativeCodeLoader: Unable to load native-hadoop library for your platform... using builtin-java classes where applicable\n",
      "Using Spark's default log4j profile: org/apache/spark/log4j-defaults.properties\n",
      "Setting default log level to \"WARN\".\n",
      "To adjust logging level use sc.setLogLevel(newLevel). For SparkR, use setLogLevel(newLevel).\n",
      "21/11/12 20:25:14 WARN Utils: Service 'SparkUI' could not bind on port 4040. Attempting port 4041.\n"
     ]
    }
   ],
   "source": [
    "spark = SparkSession.builder.appName('hw1').getOrCreate()\n",
    "epoch_time = int(time.time())"
   ]
  },
  {
   "cell_type": "markdown",
   "metadata": {},
   "source": [
    "## Download data"
   ]
  },
  {
   "cell_type": "markdown",
   "metadata": {},
   "source": [
    "http://mlg.ucd.ie/datasets/bbc.html"
   ]
  },
  {
   "cell_type": "code",
   "execution_count": 7,
   "metadata": {},
   "outputs": [
    {
     "name": "stdout",
     "output_type": "stream",
     "text": [
      "./data/bbc-fulltext.zip exists, skipping\n"
     ]
    }
   ],
   "source": [
    "%%bash\n",
    "file=./data/bbc-fulltext.zip\n",
    "\n",
    "if [ -e \"$file\" ]; then\n",
    "    echo \"$file exists, skipping\"\n",
    "else \n",
    "    echo \"$file does not exist, using wget to download it\"\n",
    "    wget http://mlg.ucd.ie/files/datasets/bbc-fulltext.zip -P data/\n",
    "    unzip $file -d data/\n",
    "fi"
   ]
  },
  {
   "cell_type": "code",
   "execution_count": 8,
   "metadata": {},
   "outputs": [
    {
     "name": "stdout",
     "output_type": "stream",
     "text": [
      "skipping data/bbc/sport/199.txt due to: 'utf-8' codec can't decode byte 0xa3 in position 257: invalid start byte\n"
     ]
    },
    {
     "name": "stderr",
     "output_type": "stream",
     "text": [
      "\r",
      "[Stage 0:>                                                          (0 + 1) / 1]\r"
     ]
    },
    {
     "name": "stdout",
     "output_type": "stream",
     "text": [
      "+---+--------+--------------------+--------------------+\n",
      "| id|   topic|                path|                text|\n",
      "+---+--------+--------------------+--------------------+\n",
      "|  0|business|data/bbc/business...|Criminal probe on...|\n",
      "|  1|business|data/bbc/business...|'Post-Christmas l...|\n",
      "|  2|business|data/bbc/business...|Beijingers fume o...|\n",
      "|  3|business|data/bbc/business...|Jobs growth still...|\n",
      "|  4|business|data/bbc/business...|Winn-Dixie files ...|\n",
      "|  5|business|data/bbc/business...|US economy still ...|\n",
      "|  6|business|data/bbc/business...|Wall Street cheer...|\n",
      "|  7|business|data/bbc/business...|China now top tra...|\n",
      "|  8|business|data/bbc/business...|US to probe airli...|\n",
      "|  9|business|data/bbc/business...|India unveils ant...|\n",
      "| 10|business|data/bbc/business...|Train strike grip...|\n",
      "| 11|business|data/bbc/business...|China had role in...|\n",
      "| 12|business|data/bbc/business...|Dollar gains on G...|\n",
      "| 13|business|data/bbc/business...|Euro firms miss o...|\n",
      "| 14|business|data/bbc/business...|US manufacturing ...|\n",
      "| 15|business|data/bbc/business...|Bad weather hits ...|\n",
      "| 16|business|data/bbc/business...|S Korean consumer...|\n",
      "| 17|business|data/bbc/business...|Ask Jeeves tips o...|\n",
      "| 18|business|data/bbc/business...|Yukos unit fetche...|\n",
      "| 19|business|data/bbc/business...|Italy to get econ...|\n",
      "+---+--------+--------------------+--------------------+\n",
      "only showing top 20 rows\n",
      "\n"
     ]
    },
    {
     "name": "stderr",
     "output_type": "stream",
     "text": [
      "\r",
      "                                                                                \r"
     ]
    }
   ],
   "source": [
    "data_path = \"data/bbc/\"\n",
    "topic_names = [\"business\", \"entertainment\", \"politics\", \"sport\", \"tech\"]\n",
    "\n",
    "data_reader = DataReader(data_path=data_path, spark=spark)\n",
    "df_data_all = data_reader(topic_names=topic_names)\n",
    "df_data_all = df_data_all.select(\"id\",\"topic\",\"path\",\"text\")\n",
    "df_data_all.show()"
   ]
  },
  {
   "cell_type": "code",
   "execution_count": 9,
   "metadata": {},
   "outputs": [
    {
     "name": "stdout",
     "output_type": "stream",
     "text": [
      "+---+--------+--------------------+--------------------+\n",
      "| id|   topic|                path|                text|\n",
      "+---+--------+--------------------+--------------------+\n",
      "|  0|business|data/bbc/business...|Criminal probe on...|\n",
      "|  1|business|data/bbc/business...|'Post-Christmas l...|\n",
      "|  2|business|data/bbc/business...|Beijingers fume o...|\n",
      "|  3|business|data/bbc/business...|Jobs growth still...|\n",
      "|  4|business|data/bbc/business...|Winn-Dixie files ...|\n",
      "|  5|business|data/bbc/business...|US economy still ...|\n",
      "|  6|business|data/bbc/business...|Wall Street cheer...|\n",
      "|  7|business|data/bbc/business...|China now top tra...|\n",
      "|  8|business|data/bbc/business...|US to probe airli...|\n",
      "|  9|business|data/bbc/business...|India unveils ant...|\n",
      "| 10|business|data/bbc/business...|Train strike grip...|\n",
      "| 11|business|data/bbc/business...|China had role in...|\n",
      "| 12|business|data/bbc/business...|Dollar gains on G...|\n",
      "| 13|business|data/bbc/business...|Euro firms miss o...|\n",
      "| 14|business|data/bbc/business...|US manufacturing ...|\n",
      "| 15|business|data/bbc/business...|Bad weather hits ...|\n",
      "| 16|business|data/bbc/business...|S Korean consumer...|\n",
      "| 17|business|data/bbc/business...|Ask Jeeves tips o...|\n",
      "| 18|business|data/bbc/business...|Yukos unit fetche...|\n",
      "| 19|business|data/bbc/business...|Italy to get econ...|\n",
      "+---+--------+--------------------+--------------------+\n",
      "\n"
     ]
    }
   ],
   "source": [
    "limit_to = 20\n",
    "df_data = df_data_all.limit(limit_to)\n",
    "df_data.show()\n",
    "df_data_collected = df_data.collect()\n",
    "#data = data_all.orderBy(rand(seed=1234)).limit(limit_to)"
   ]
  },
  {
   "cell_type": "code",
   "execution_count": 10,
   "metadata": {},
   "outputs": [
    {
     "name": "stdout",
     "output_type": "stream",
     "text": [
      "data.shape = (20, 4)\n"
     ]
    }
   ],
   "source": [
    "print(f\"data.shape = {df_data.count(), len(df_data.columns)}\")"
   ]
  },
  {
   "cell_type": "markdown",
   "metadata": {},
   "source": [
    "## Shingling"
   ]
  },
  {
   "cell_type": "code",
   "execution_count": 11,
   "metadata": {},
   "outputs": [
    {
     "name": "stderr",
     "output_type": "stream",
     "text": [
      "\r",
      "[Stage 7:>                                                          (0 + 1) / 1]\r"
     ]
    },
    {
     "name": "stdout",
     "output_type": "stream",
     "text": [
      "Found n_shingles=37936 distinct shingles across all docs with k=10\n"
     ]
    },
    {
     "name": "stderr",
     "output_type": "stream",
     "text": [
      "\r",
      "                                                                                \r"
     ]
    }
   ],
   "source": [
    "k = 10\n",
    "texts_rdd = df_data.select(\"text\").rdd.flatMap(lambda x:x)\n",
    "shingling = Shingling(k=k)\n",
    "k_shingles_rdd, k_shingles_all_rdd = shingling(texts_rdd=texts_rdd)\n",
    "n_shingles = k_shingles_all_rdd.count()\n",
    "print(f\"Found n_shingles={n_shingles} distinct shingles across all docs with k={k}\")\n",
    "prime_modulo = nextprime(n_shingles)"
   ]
  },
  {
   "cell_type": "code",
   "execution_count": 12,
   "metadata": {},
   "outputs": [],
   "source": [
    "vectorizer = Vectorizer()\n",
    "k_shingles_vectorized_rdd = \\\n",
    "    vectorizer(k_shingles_rdd=k_shingles_rdd, k_shingles_all_rdd=k_shingles_all_rdd)"
   ]
  },
  {
   "cell_type": "code",
   "execution_count": 33,
   "metadata": {},
   "outputs": [
    {
     "name": "stderr",
     "output_type": "stream",
     "text": [
      "                                                                                \r"
     ]
    },
    {
     "data": {
      "text/plain": [
       "37936"
      ]
     },
     "execution_count": 33,
     "metadata": {},
     "output_type": "execute_result"
    }
   ],
   "source": [
    "len(k_shingles_vectorized_rdd.take(1)[-1])"
   ]
  },
  {
   "cell_type": "code",
   "execution_count": 13,
   "metadata": {},
   "outputs": [
    {
     "name": "stderr",
     "output_type": "stream",
     "text": [
      "                                                                                \r"
     ]
    }
   ],
   "source": [
    "compare_sets = CompareSets()\n",
    "js_rdd = compare_sets(k_shingles_vectorized_rdd=k_shingles_vectorized_rdd)"
   ]
  },
  {
   "cell_type": "code",
   "execution_count": 14,
   "metadata": {},
   "outputs": [
    {
     "name": "stderr",
     "output_type": "stream",
     "text": [
      "                                                                                \r"
     ]
    },
    {
     "data": {
      "image/png": "[encoded data removed]",
      "text/plain": [
       "<Figure size 720x720 with 2 Axes>"
      ]
     },
     "metadata": {
      "needs_background": "light"
     },
     "output_type": "display_data"
    }
   ],
   "source": [
    "js_rdd_collected = js_rdd.collect()\n",
    "make_heatmap(js_rdd_collected, \"Jaccard similarities of k-shingles\", epoch_time)"
   ]
  },
  {
   "cell_type": "code",
   "execution_count": 34,
   "metadata": {},
   "outputs": [
    {
     "data": {
      "text/plain": [
       "[(0, 0.0019347037484885128),\n",
       " (1, 0.0011418783899514702),\n",
       " (2, 0.004890544946436889),\n",
       " (3, 0.0046443412368614035),\n",
       " (4, 0.010502625656414103),\n",
       " (5, 0.0),\n",
       " (6, 0.0018542555164101613),\n",
       " (7, 0.0025614754098360654),\n",
       " (8, 0.0067026624464717926),\n",
       " (9, 0.004962779156327543),\n",
       " (10, 0.0019553072625698325),\n",
       " (11, 1.0),\n",
       " (12, 0.002153316106804479),\n",
       " (13, 0.003216726980297547),\n",
       " (14, 0.003205128205128205),\n",
       " (15, 0.002745367192862045),\n",
       " (16, 0.005393478793822015),\n",
       " (17, 0.0027685492801771874),\n",
       " (18, 0.026589242053789732),\n",
       " (19, 0.0076937511728279225)]"
      ]
     },
     "execution_count": 34,
     "metadata": {},
     "output_type": "execute_result"
    }
   ],
   "source": [
    "js_rdd_collected[11]"
   ]
  },
  {
   "cell_type": "markdown",
   "metadata": {},
   "source": [
    "## MinHashing"
   ]
  },
  {
   "cell_type": "code",
   "execution_count": 15,
   "metadata": {},
   "outputs": [],
   "source": [
    "n_signatures = 100\n",
    "seed = 32\n",
    "min_hashing = MinHashing(n_signatures=n_signatures, prime_modulo=prime_modulo, seed=seed)\n",
    "signatures_rdd = min_hashing(k_shingles_vectorized_rdd=k_shingles_vectorized_rdd)"
   ]
  },
  {
   "cell_type": "code",
   "execution_count": 16,
   "metadata": {},
   "outputs": [
    {
     "name": "stderr",
     "output_type": "stream",
     "text": [
      "                                                                                \r"
     ]
    }
   ],
   "source": [
    "compare_signatures = CompareSignatures()\n",
    "signature_similarities_rdd = compare_signatures(signatures_rdd=signatures_rdd)"
   ]
  },
  {
   "cell_type": "code",
   "execution_count": 17,
   "metadata": {},
   "outputs": [
    {
     "name": "stderr",
     "output_type": "stream",
     "text": [
      "                                                                                \r"
     ]
    },
    {
     "data": {
      "image/png": "[encoded data removed]",
      "text/plain": [
       "<Figure size 720x720 with 2 Axes>"
      ]
     },
     "metadata": {
      "needs_background": "light"
     },
     "output_type": "display_data"
    }
   ],
   "source": [
    "signature_similarities_rdd_collected = signature_similarities_rdd.collect()\n",
    "make_heatmap(signature_similarities_rdd_collected, \"MinHash signature similarities\", epoch_time)"
   ]
  },
  {
   "cell_type": "code",
   "execution_count": 37,
   "metadata": {},
   "outputs": [
    {
     "data": {
      "text/plain": [
       "[(0, 0.02),\n",
       " (1, 0.0),\n",
       " (2, 0.01),\n",
       " (3, 0.0),\n",
       " (4, 0.03),\n",
       " (5, 0.0),\n",
       " (6, 0.0),\n",
       " (7, 0.0),\n",
       " (8, 0.04),\n",
       " (9, 0.01),\n",
       " (10, 0.0),\n",
       " (11, 1.0),\n",
       " (12, 0.0),\n",
       " (13, 0.0),\n",
       " (14, 0.0),\n",
       " (15, 0.0),\n",
       " (16, 0.01),\n",
       " (17, 0.01),\n",
       " (18, 0.04),\n",
       " (19, 0.03)]"
      ]
     },
     "execution_count": 37,
     "metadata": {},
     "output_type": "execute_result"
    }
   ],
   "source": [
    "signature_similarities_rdd_collected[11]"
   ]
  },
  {
   "cell_type": "markdown",
   "metadata": {},
   "source": [
    "## Locally Sensitive Hashing (LSH)"
   ]
  },
  {
   "cell_type": "code",
   "execution_count": 18,
   "metadata": {},
   "outputs": [
    {
     "name": "stdout",
     "output_type": "stream",
     "text": [
      "LSH:\n",
      "n_signatures=100\n",
      "n_bands=5\n",
      "n_buckets=20\n",
      "n_rows_per_band=20\n",
      "sim_thresh=0.9226808345905884\n",
      "hash_to_n_min=1\n",
      "\n"
     ]
    },
    {
     "name": "stderr",
     "output_type": "stream",
     "text": [
      "                                                                                \r"
     ]
    }
   ],
   "source": [
    "n_bands = 5\n",
    "n_buckets = 20\n",
    "\n",
    "lsh = LSH(n_signatures=n_signatures, n_bands=n_bands, n_buckets=n_buckets)\n",
    "print(lsh)\n",
    "candidates_rdd = lsh(signatures_rdd=signatures_rdd)"
   ]
  },
  {
   "cell_type": "code",
   "execution_count": 19,
   "metadata": {},
   "outputs": [
    {
     "name": "stderr",
     "output_type": "stream",
     "text": [
      "[Stage 28:============================>                         (105 + 8) / 200]\r"
     ]
    },
    {
     "name": "stdout",
     "output_type": "stream",
     "text": [
      "+---+--------+--------------------+--------------------+--------------------+\n",
      "| id|   topic|                path|                text|          candidates|\n",
      "+---+--------+--------------------+--------------------+--------------------+\n",
      "|  0|business|data/bbc/business...|Criminal probe on...|[0, 4, 11, 13, 14...|\n",
      "|  1|business|data/bbc/business...|'Post-Christmas l...|           [1, 4, 8]|\n",
      "|  2|business|data/bbc/business...|Beijingers fume o...|   [2, 5, 7, 16, 17]|\n",
      "|  3|business|data/bbc/business...|Jobs growth still...|  [3, 7, 11, 12, 17]|\n",
      "|  4|business|data/bbc/business...|Winn-Dixie files ...|   [0, 1, 4, 14, 17]|\n",
      "|  5|business|data/bbc/business...|US economy still ...|  [2, 5, 12, 13, 14]|\n",
      "|  6|business|data/bbc/business...|Wall Street cheer...|[6, 9, 10, 15, 16...|\n",
      "|  7|business|data/bbc/business...|China now top tra...|       [2, 3, 7, 18]|\n",
      "|  8|business|data/bbc/business...|US to probe airli...|[1, 8, 10, 12, 15...|\n",
      "|  9|business|data/bbc/business...|India unveils ant...|[6, 9, 10, 11, 15...|\n",
      "| 10|business|data/bbc/business...|Train strike grip...|[6, 8, 9, 10, 15,...|\n",
      "| 11|business|data/bbc/business...|China had role in...|[0, 3, 9, 11, 17,...|\n",
      "| 12|business|data/bbc/business...|Dollar gains on G...|   [3, 5, 8, 12, 13]|\n",
      "| 13|business|data/bbc/business...|Euro firms miss o...|  [0, 5, 12, 13, 19]|\n",
      "| 14|business|data/bbc/business...|US manufacturing ...|   [0, 4, 5, 14, 17]|\n",
      "| 15|business|data/bbc/business...|Bad weather hits ...|[6, 8, 9, 10, 15,...|\n",
      "| 16|business|data/bbc/business...|S Korean consumer...|      [2, 6, 16, 18]|\n",
      "| 17|business|data/bbc/business...|Ask Jeeves tips o...|[0, 2, 3, 4, 11, ...|\n",
      "| 18|business|data/bbc/business...|Yukos unit fetche...|[0, 6, 7, 11, 16,...|\n",
      "| 19|business|data/bbc/business...|Italy to get econ...|[8, 9, 10, 13, 15...|\n",
      "+---+--------+--------------------+--------------------+--------------------+\n",
      "\n"
     ]
    },
    {
     "name": "stderr",
     "output_type": "stream",
     "text": [
      "\r",
      "[Stage 28:==========================================>           (159 + 8) / 200]\r",
      "\r",
      "                                                                                \r"
     ]
    }
   ],
   "source": [
    "df_candidates = candidates_rdd.toDF([\"id\", \"candidates\"])\n",
    "\n",
    "df = \\\n",
    "    df_data.\\\n",
    "    join(df_candidates, df_data[\"id\"] == df_candidates[\"id\"], \"outer\").\\\n",
    "    drop(df_candidates.id).\\\n",
    "    sort(\"id\", ascedning=True)\n",
    "\n",
    "df.show()"
   ]
  },
  {
   "cell_type": "markdown",
   "metadata": {},
   "source": [
    "Save cadidates based on LSH."
   ]
  },
  {
   "cell_type": "code",
   "execution_count": 20,
   "metadata": {},
   "outputs": [
    {
     "name": "stderr",
     "output_type": "stream",
     "text": [
      "                                                                                \r"
     ]
    }
   ],
   "source": [
    "df.drop(\"text\").toPandas().to_csv(f\"assets/run_{epoch_time}.csv\")"
   ]
  },
  {
   "cell_type": "markdown",
   "metadata": {},
   "source": [
    "## Measure execution time"
   ]
  },
  {
   "cell_type": "code",
   "execution_count": 21,
   "metadata": {},
   "outputs": [
    {
     "name": "stdout",
     "output_type": "stream",
     "text": [
      "Found n_shingles=37936 distinct shingles across all docs with k=10\n"
     ]
    },
    {
     "name": "stderr",
     "output_type": "stream",
     "text": [
      "                                                                                \r"
     ]
    },
    {
     "name": "stdout",
     "output_type": "stream",
     "text": [
      "LSH:\n",
      "n_signatures=100\n",
      "n_bands=5\n",
      "n_buckets=20\n",
      "n_rows_per_band=20\n",
      "sim_thresh=0.9226808345905884\n",
      "hash_to_n_min=1\n",
      "\n"
     ]
    },
    {
     "name": "stderr",
     "output_type": "stream",
     "text": [
      "\r",
      "[Stage 51:>                                                         (0 + 1) / 1]\r"
     ]
    },
    {
     "name": "stdout",
     "output_type": "stream",
     "text": [
      "Execution time: 79.89459991455078 seconds\n"
     ]
    },
    {
     "name": "stderr",
     "output_type": "stream",
     "text": [
      "\r",
      "                                                                                \r"
     ]
    }
   ],
   "source": [
    "algo = \\\n",
    "    FindTextuallySimilarDocuments(\n",
    "        k=k, \n",
    "        n_signatures=n_signatures, \n",
    "        prime_modulo=prime_modulo, \n",
    "        seed=seed, \n",
    "        n_bands=n_bands, \n",
    "        n_buckets=n_buckets\n",
    ")\n",
    "algo(df_data=df_data)"
   ]
  },
  {
   "cell_type": "markdown",
   "metadata": {},
   "source": [
    "## Similar documents"
   ]
  },
  {
   "cell_type": "markdown",
   "metadata": {},
   "source": [
    "Based on Jaccard similarities of k-shingles."
   ]
  },
  {
   "cell_type": "markdown",
   "metadata": {},
   "source": [
    "Docs with id 11 and 18, common topics: Russia, oil giant Yukos, a company called Yugansk, a key figure called Mikhail Khodorkovsky, the finances of the aforementioned companies."
   ]
  },
  {
   "cell_type": "code",
   "execution_count": 24,
   "metadata": {},
   "outputs": [
    {
     "name": "stdout",
     "output_type": "stream",
     "text": [
      "Row(id=11, topic='business', path='data/bbc/business/077.txt', text='China had role in Yukos split-up China lent Russia $6bn (£3.2bn) to help the Russian government renationalise the key Yuganskneftegas unit of oil group Yukos, it has been revealed. The Kremlin said on Tuesday that the $6bn which Russian state bank VEB lent state-owned Rosneft to help buy Yugansk in turn came from Chinese banks. The revelation came as the Russian government said Rosneft had signed a long-term oil supply deal with China. The deal sees Rosneft receive $6bn in credits from China\\'s CNPC. According to Russian newspaper Vedomosti, these credits would be used to pay off the loans Rosneft received to finance the purchase of Yugansk. Reports said CNPC had been offered 20% of Yugansk in return for providing finance but the company opted for a long-term oil supply deal instead. Analysts said one factor that might have influenced the Chinese decision was the possibility of litigation from Yukos, Yugansk\\'s former owner, if CNPC had become a shareholder. Rosneft and VEB declined to comment. \"The two companies [Rosneft and CNPC] have agreed on the pre-payment for long-term deliveries,\" said Russian oil official Sergei Oganesyan. \"There is nothing unusual that the pre-payment is for five to six years.\" The announcements help to explain how Rosneft, a medium-sized, indebted, and relatively unknown firm, was able to finance its surprise purchase of Yugansk. Yugansk was sold for $9.3bn in an auction last year to help Yukos pay off part of a $27bn bill in unpaid taxes and fines. The embattled Russian oil giant had previously filed for bankruptcy protection in a US court in an attempt to prevent the forced sale of its main production arm. But Yugansk was sold to a little known shell company which in turn was bought by Rosneft. Yukos claims its downfall was punishment for the political ambitions of its founder Mikhail Khodorkovsky. Once the country\\'s richest man, Mr Khodorkovsky is on trial for fraud and tax evasion. The deal between Rosneft and CNPC is seen as part of China\\'s desire to secure long-term oil supplies to feed its booming economy. China\\'s thirst for products such as crude oil, copper and steel has helped pushed global commodity prices to record levels. \"Clearly the Chinese are trying to get some leverage [in Russia],\" said Dmitry Lukashov, an analyst at brokerage Aton. \"They understand property rights in Russia are not the most important rights, and they are more interested in guaranteeing supplies.\" \"If the price of oil is fixed under the deal, which is unlikely, it could be very profitable for the Chinese,\" Mr Lukashov continued. \"And Rosneft is in desperate need of cash, so it\\'s a good deal for them too.\"')\n",
      "\n",
      "Row(id=18, topic='business', path='data/bbc/business/314.txt', text='Yukos unit fetches $9bn at auction A little-known Russian company has bought the main production unit of oil giant Yukos at auction in Moscow. Baikal Finance Group outbid favourite Gazprom, the state-controlled gas monopoly, to buy Yuganskneftegas. Baikal paid 260.75bn roubles ($9.37bn: £4.8bn) for Yugansk - nowhere near the $27bn Russia says Yukos owes in taxes. Yukos reacted immediately by repeating its view that the auction was illegal in international and Russian law, and said Baikal had bought itself trouble. \"The company considers that the victor of today\\'s auction has bought itself a serious $9bn headache,\" said Yukos spokesman Alexander Shadrin. He said the company would continue to make \"every lawful move\" to protect tens of thousands of shareholders in Yukos from \"this forcible and illegitimate removal of their property\". Meanwhile, Tim Osborne, head of Yukos main shareholders\\' group Menatep, said that Yukos may have to declare itself bankrupt, and that legal action would be taken, outside Russia, against the auction winners. Reports from Russia say Baikal has paid a deposit of nearly $1.7bn from a Sberbank (Savings Bank) account to the Russian Federal Property Fund, for Yugansk. The sale came despite a restraining order issued by a US court dealing with the firm\\'s bankruptcy application for Chapter 11 protection. Yukos has always insisted the auction was state-sponsored theft but Russian authorities argued they were imposing the law, trying to recover billions in unpaid taxes. There were originally four registered bidders, and with its close ties to the Kremlin, state-backed gas monopoly Gazprom had been seen as favourite. But just two companies turned up for the auction, Gazprom and the unknown Baikal Finance Group, named after a large freshwater lake in Siberia. And, according to Tass news agency, Gazprom did not make a single bid, leaving the way open for Baikal, which paid above the auction start price of 246.75bn roubles. Mystery firm Baikal Finance Group is officially registered in the central Russian region of Tver, but many analysts believe it may be linked to Gazprom. Kaha Kiknavelidze, analyst at Troika Dialog, said: \"I think a decision that Yugansk should end up with Gazprom was taken a long time ago. So the main question was how to structure this transaction. \"I would not exclude that the structure of the deal has slightly changed and Gazprom now has a partner. \"I would also not exclude that Baikal will decline to pay in 14 days, that are given by law, and Gazprom is then recognised as the winner. This would give Gazprom an extra 14 days to accumulate the needed funds. \"Another surprise was that the winner paid a significant premium above the starting price.\" However, Gazprom has announced it is not linked to Baikal in any way. And Paul Collison, chief analyst at Brunswick UBS, said: \"I see no plausible explanation for the theory that Baikal was representing competing interests. \"Yugansk will most likely end up with Gazprom but could still end up with the government. There is still potential for surprises.\" Yugansk is at the heart of Yukos - pumping close to a million barrels of oil a day. The unit was seized by the government which claims the oil giant owes more than $27bn in taxes and fines. Yukos says those tax demands are exorbitant, and had sought refuge in US courts. The US bankruptcy court\\'s initial order on Thursday - to temporarily block the sale - in response to Yukos filing for Chapter 11 bankruptcy protection, was upheld in a second ruling on Saturday. The protection, if recognised by the Russian authorities, would have allowed Yukos\\' current management to retain control of the business and block the sale of any company assets. Yukos has said the sale amounts to expropriation - punishment for the political ambitions of its founder, Mikhail Khodorkovsky. Mr Khodorkovsky is now in jail, on separate fraud charges. But President Vladimir Putin has described the affair as a crackdown on corruption - and the BBC\\'s Sarah Rainsford in Moscow says most Russians believe the destruction of Yukos is now inevitable. Hours before the auction lawyers for Menatep, a group through which Mr Khodorkovsky and his associates control Yukos, said they would take legal action in other countries. Menatep lawyers, who were excluded from observing the auction, said they would retaliate by seeking injunctions in foreign courts to impound Russian oil and gas exports.')\n"
     ]
    }
   ],
   "source": [
    "print(df_data_collected[11])\n",
    "print()\n",
    "print(df_data_collected[18])"
   ]
  },
  {
   "cell_type": "markdown",
   "metadata": {},
   "source": [
    "Docs with id 3 and 6, common topics: job losses and creation in the US"
   ]
  },
  {
   "cell_type": "code",
   "execution_count": 26,
   "metadata": {},
   "outputs": [
    {
     "name": "stdout",
     "output_type": "stream",
     "text": [
      "Row(id=3, topic='business', path='data/bbc/business/007.txt', text='Jobs growth still slow in the US The US created fewer jobs than expected in January, but a fall in jobseekers pushed the unemployment rate to its lowest level in three years. According to Labor Department figures, US firms added only 146,000 jobs in January. The gain in non-farm payrolls was below market expectations of 190,000 new jobs. Nevertheless it was enough to push down the unemployment rate to 5.2%, its lowest level since September 2001. The job gains mean that President Bush can celebrate - albeit by a very fine margin - a net growth in jobs in the US economy in his first term in office. He presided over a net fall in jobs up to last November\\'s Presidential election - the first President to do so since Herbert Hoover. As a result, job creation became a key issue in last year\\'s election. However, when adding December and January\\'s figures, the administration\\'s first term jobs record ended in positive territory. The Labor Department also said it had revised down the jobs gains in December 2004, from 157,000 to 133,000. Analysts said the growth in new jobs was not as strong as could be expected given the favourable economic conditions. \"It suggests that employment is continuing to expand at a moderate pace,\" said Rick Egelton, deputy chief economist at BMO Financial Group. \"We are not getting the boost to employment that we would have got given the low value of the dollar and the still relatively low interest rate environment.\" \"The economy is producing a moderate but not a satisfying amount of job growth,\" said Ken Mayland, president of ClearView Economics. \"That means there are a limited number of new opportunities for workers.\"')\n",
      "\n",
      "Row(id=6, topic='business', path='data/bbc/business/294.txt', text='Wall Street cheers Bush victory The US stock market has closed higher in response to George W Bush\\'s victory in the presidential elections. The benchmark Dow Jones share index closed more than 1% higher at 10,137, while the Nasdaq rose 0.9% to 2,004. Many investors believe that Mr Bush\\'s policies are more business-friendly than those of his Democrat challenger, John Kerry. The higher share prices also reflect relief that a clear winner has emerged from what proved to be a tight poll. Investors had worried that the outcome of the poll would be inconclusive, paving the way for a repeat of the legal wrangling that marred the 2000 election. The Dow lost 5% of its value in the three weeks immediately after that election, when it was unclear who would occupy the White House. Mr Kerry conceded defeat on Wednesday, abandoning last-ditch hopes of carrying the vote in the swing state of Ohio. \"The relief for the markets may be that we have a decision and can move forward,\" said Tim Ghriskey, chief investment officer of Solaris Asset Management. Some analysts predicted that the jump in share prices would be short-lived, saying investors would quickly focus once again on the health of the US economy. \"I would look at the stock market rally for Bush as kind of a one-day event,\" said Ken Mayland at Clearview Economics. The US\\' recent economic performance has been mixed, with solid growth offset by disappointingly low job creation figures, and mounting worries over a record budget deficit. Elsewhere in the financial markets on Wednesday, the dollar dipped slightly against the euro and climbed against the yen, while US oil prices closed up $1.26 at $50.88 a barrel in New York. The rise in oil prices partly reflects the view that President Bush is less likely than Mr Kerry to release supplies from the US\\' strategic oil reserve. Share prices in London, Frankfurt and Paris also closed higher. Successive polls in the run-up to Tuesday\\'s election had shown the two candidates running neck and neck. Economic issues, as well as the war in Iraq, were the forefront of the campaign. In key swing states such as Ohio, which has suffered substantial job losses in the past four years, President Bush\\'s handling of the economy became a crucial election issue. Senator Kerry attacked President Bush\\'s economic record during his campaign, hammering home the fact that a net 800,000 jobs were lost during his term in office. President Bush focused on the fact that two million jobs have been created in the past year, claiming that it has vindicated his tax-cutting agenda. As for future policies, both candidates pledged to bring America\\'s $422bn federal budget deficit under control. Senator Kerry planned to increase taxes on those earning more than $200,000 a year. President Bush has placed reform of the pensions system at the heart of his economic agenda for a second term. However, economists have said both candidates\\' economic programmes rested on questionable assumptions about future growth.')\n"
     ]
    }
   ],
   "source": [
    "print(df_data_collected[3])\n",
    "print()\n",
    "print(df_data_collected[6])"
   ]
  },
  {
   "cell_type": "markdown",
   "metadata": {},
   "source": [
    "Based on the similarities of MinHashed signatures."
   ]
  },
  {
   "cell_type": "markdown",
   "metadata": {},
   "source": [
    "Docs with id 15 and 19, common topics: growth rates, but in different contexts"
   ]
  },
  {
   "cell_type": "code",
   "execution_count": 31,
   "metadata": {},
   "outputs": [
    {
     "name": "stdout",
     "output_type": "stream",
     "text": [
      "Row(id=15, topic='business', path='data/bbc/business/050.txt', text='Bad weather hits Nestle sales A combination of bad weather, rising raw material costs and the sluggish European economy has hit sales at Swiss food and drink giant Nestle. Revenue dipped 1.4% to 86.7bn Swiss francs ($74.6bn; £39.1bn) in 2004 as sales of ice cream and mineral water were dampened by the wet summer. However, Nestle\\'s profits margins were helped by a strong performance in the Americas and China. Nestle is to raise its dividend by 11% after paying back some of its debt. Nestle said that the strength of the Swiss franc against the US dollar, the disposal of businesses and challenging trading conditions in Europe all dented sales. A poor summer across the continent - in contrast to the prolonged heat wave in 2003 - \"severely affected\" demand for ice cream. Sales of bottled water also fell, although chocolate, coffee, frozen goods and petcare products performed better. Elsewhere, Nestle said it had enjoyed an \"exceptional\" year in North America, outperforming the market in terms of sales growth. Nestle added that it had performed strongly in Africa and Asia despite the impact of high oil prices and political instability. Nestle\\'s total earnings before interest remained broadly flat over the past year, despite the company managing to boost profit margins. As well as increasing its dividend, Nestle plans to buy back shares worth 1bn Swiss francs ($861m; £451m). Looking forward, Nestle forecasts organic earnings growth of about 5% in 2005, although it warned that trading would remain just as competitive. Uncertainty remains over the future of Perrier, the iconic French mineral water owned by Nestle. Perrier has been locked in a long-standing dispute with unions about productivity levels at the business, which has lead Nestle to consider selling the firm. \"The option of selling is Perrier is still on the table,\" chief executive Peter Brabeck-Letmathe confirmed on Thursday.')\n",
      "\n",
      "Row(id=19, topic='business', path='data/bbc/business/052.txt', text='Italy to get economic action plan Italian Prime Minister Silvio Berlusconi will unveil plans aimed at kickstarting the country\\'s sputtering economy on Thursday night in Rome. He will present an \"Action Plan for the Development of Italy\" in a meeting with industrialists and trade union leaders. Mr Berlusconi is expected to table reforms aimed at boosting research and development (R&D) spending, and the competitiveness of small firms. Also in focus will be bankruptcy laws and the slow pace of the legal system. The prime minister is scheduled to start the meeting at 1830 GMT. The government has been accused of underfunding R&D, making it harder for Italy to compete with other European nations and leading to a \"brain-drain\" of the country\\'s brightest talents. Analysts say that hiring and firing staff is still too difficult and expensive, hampering the development of small- and medium-sized businesses. As a result, they say, Italy\\'s corporate landscape is filled with numerous smaller companies that are often reluctant to become bigger because of all the extra hassle that would accompany the running of a larger firm. At the same time, bankruptcy laws make it difficult for failed company directors to set up new businesses and emerge from their debts, a situation that is hampering Italy\\'s entrepreneurial spirit. The government says that it has set about tackling the problems, adding that getting growth going was the responsibility of all of Italy\\'s 60 million population. According to Il Sole 24 Ore, Italy\\'s business newspaper, the government will focus on \"opening up markets, infrastructure, research, making more incentives available, bankruptcy law, the slow pace of the justice system\". Mr Berlusconi has previously promised to cut taxes by 6.5bn euros ($8.6bn; £4.5bn) this year in an effort to get people and companies to spend. He has also promised to cap spending on transport, education and health so as to trim the ballooning budget deficit. Italy plans to raise as much as 25bn euros from privatisations in 2005, including a partial flotation of the post office and utility Enel. Critics argue that these moves do not go far enough and could make Italy\\'s problems worse. Limiting government spending will lead to job losses, they counter, while the income tax cuts will have a negligible effect on sentiment and ultimately favour the wealthy. The country has been one of the eurozone\\'s worst economic performers in recent years. Growth was 1.1% in 2004, up from just 0.3% in 2003 and 0.4% in 2002 - an improvement but still a long way from ideal. At the same time, business and consumer confidence has dipped and analysts have raised concerns that what little spending there is stems from Italians dipping into their savings accounts or using credit cards. Without a pick up in national growth, they say, the money could eventually run out, bringing Italy\\'s economy to a juddering halt. Consumer spending accounts for about two-thirds of Italy\\'s economy.')\n"
     ]
    }
   ],
   "source": [
    "print(df_data_collected[15])\n",
    "print()\n",
    "print(df_data_collected[19])"
   ]
  },
  {
   "cell_type": "code",
   "execution_count": null,
   "metadata": {},
   "outputs": [],
   "source": []
  }
 ],
 "metadata": {
  "kernelspec": {
   "display_name": "Python (Spark)",
   "language": "python",
   "name": "spark-env"
  },
  "language_info": {
   "codemirror_mode": {
    "name": "ipython",
    "version": 3
   },
   "file_extension": ".py",
   "mimetype": "text/x-python",
   "name": "python",
   "nbconvert_exporter": "python",
   "pygments_lexer": "ipython3",
   "version": "3.8.11"
  }
 },
 "nbformat": 4,
 "nbformat_minor": 4
}
